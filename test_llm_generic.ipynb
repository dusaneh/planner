{
 "cells": [
  {
   "cell_type": "code",
   "execution_count": null,
   "metadata": {},
   "outputs": [
    {
     "name": "stderr",
     "output_type": "stream",
     "text": [
      "c:\\Users\\dusan\\OneDrive\\Desktop\\pp\\plannerv2\\pv2\\Lib\\site-packages\\tqdm\\auto.py:21: TqdmWarning: IProgress not found. Please update jupyter and ipywidgets. See https://ipywidgets.readthedocs.io/en/stable/user_install.html\n",
      "  from .autonotebook import tqdm as notebook_tqdm\n"
     ]
    }
   ],
   "source": [
    "\n",
    "%load_ext autoreload\n",
    "%autoreload 2\n",
    "\n",
    "import helper as hlp\n",
    "import json\n"
   ]
  },
  {
   "cell_type": "code",
   "execution_count": 31,
   "metadata": {},
   "outputs": [
    {
     "name": "stdout",
     "output_type": "stream",
     "text": [
      "{\n",
      "  \"TaxToolz\": {\n",
      "    \"parameters\": {\n",
      "      \"region2\": \"US\",\n",
      "      \"income\": 50000\n",
      "    },\n",
      "    \"relevance_score\": 85,\n",
      "    \"validation\": {\n",
      "      \"relevance_score_error\": false,\n",
      "      \"required_params_error\": true,\n",
      "      \"missing_required_params\": [\n",
      "        \"deductions\"\n",
      "      ],\n",
      "      \"missing_or_invalid_optional_params\": [],\n",
      "      \"fields_found\": [\n",
      "        \"relevance_score\",\n",
      "        \"region2\",\n",
      "        \"income\"\n",
      "      ],\n",
      "      \"error_string\": \"Required parameter 'deductions' is missing\"\n",
      "    }\n",
      "  },\n",
      "  \"UntitledTool\": {\n",
      "    \"parameters\": {},\n",
      "    \"relevance_score\": 25,\n",
      "    \"validation\": {\n",
      "      \"relevance_score_error\": false,\n",
      "      \"required_params_error\": false,\n",
      "      \"missing_required_params\": [],\n",
      "      \"missing_or_invalid_optional_params\": [],\n",
      "      \"fields_found\": [\n",
      "        \"relevance_score\"\n",
      "      ],\n",
      "      \"error_string\": \"\"\n",
      "    }\n",
      "  }\n",
      "}\n"
     ]
    }
   ],
   "source": [
    "\n",
    "\n",
    "# # Define your structured output model:\n",
    "# class StructuredOutput(BaseModel):\n",
    "#     field1: str = Field(..., description=\"A man's name (required)\")\n",
    "#     person_number: int = Field(..., description=\"A person's age (required)\")\n",
    "#     decimal: float = Field(None, description=\"A decimal number of person height in cm (optional)\")\n",
    "#     things: List[str] = Field(None, description=\"A list of 3 cities (optional)\")\n",
    "\n",
    "\n",
    "\n",
    "# # Example usage\n",
    "# if __name__ == \"__main__\":\n",
    "#     # Example schema list\n",
    "#     schema_list = [\n",
    "#         {\n",
    "#             'name': 'TaxToolz',\n",
    "#             'parameters_json': '[{\"name\":\"region2\",\"type\":\"string\",\"required\":true,\"description\":\"The region of the user\"},{\"name\":\"income\",\"type\":\"integer\",\"required\":true,\"description\":\"The income of the user\"},{\"name\":\"deductions\",\"type\":\"integer\",\"required\":true,\"description\":\"The deductions of the user\"}]'\n",
    "#         },\n",
    "#         {\n",
    "#             'name': 'UntitledTool',\n",
    "#             'parameters_json': '[]'\n",
    "#         }\n",
    "#     ]\n",
    "    \n",
    "#     # Example input JSON\n",
    "#     input_json = \"\"\"\n",
    "#     json    {\n",
    "#         \"TaxToolz\": {\n",
    "#             \"region2\": \"US\",\n",
    "#             \"relevance_score\": 85,\n",
    "#             \"income\": 50000\n",
    "#         },\n",
    "#         \"UntitledTool\": {\n",
    "#             \"relevance_score\": 25\n",
    "#         }\n",
    "#     }\n",
    "#     \"\"\"\n",
    "    \n",
    "#     # Process and validate\n",
    "#     result = hlp.validate_and_restructure(input_json, schema_list)\n",
    "#     print(json.dumps(result, indent=2))\n",
    "\n",
    "\n",
    "# # ----- Usage Example -----\n",
    "# system_prompt = \"Generate a person's stats\"\n",
    "# user_message = \"Let's go with your suggestion\"\n",
    "\n",
    "# # Example conversation history with proper format for the direct API approach\n",
    "# message_history = [\n",
    "#     {\"role\": \"user\", \"content\": \"I need information about an old man from Serbia.\"},\n",
    "#     {\"role\": \"assistant\", \"content\": \"I'd be happy to help you generate information about a person. But let's make him a young man from German?\"},\n",
    "#     {\"role\": \"user\", \"content\": \"OK. He likes visiting different cities and knows them well.\"},\n",
    "#     {\"role\": \"assistant\", \"content\": \"I understand this person likes visiting different cities and is familiar with cities. Would you like me to generate additional information about him?\"}\n",
    "# ]\n",
    "\n",
    "# # Replace with your actual Google API key\n",
    "\n",
    "# output_dict = generate_structured_analysis(\n",
    "#     StructuredOutput,\n",
    "#     user_message,\n",
    "#     message_history,\n",
    "#     google_api_key,\n",
    "#     system_prompt\n",
    "# )\n",
    "\n",
    "# print(\"Structured Output:\", output_dict.get(\"structured_output\"))\n",
    "# print(\"Missing Required Fields:\", output_dict.get(\"missing_required_fields\"))\n",
    "# print(\"Missing Optional Fields:\", output_dict.get(\"missing_optional_fields\"))\n",
    "# print(\"Populated Fields:\", output_dict.get(\"populated_fields\"))\n",
    "# print(\"All Missing Fields:\", output_dict.get(\"all_missing_fields\"))\n",
    "\n",
    "# if \"error\" in output_dict:\n",
    "#     print(\"\\nError:\", output_dict.get(\"error\"))\n",
    "#     print(\"Raw Response:\", output_dict.get(\"raw_response\"))"
   ]
  },
  {
   "cell_type": "code",
   "execution_count": 131,
   "metadata": {},
   "outputs": [
    {
     "data": {
      "text/plain": [
       "'    \\'TaxToolz\\':{\\n        \\'region2\\' = \\'string\\',# required / User region\\n        \\'age\\' = \\'integer\\',# required / User exact age\\n        \\'relevance_score\\' = \\'integer\\',# required / The relevance score of the \"TaxToolz\" tool based soley on the function/tool description (not its parameters) from 0 to 100 with 100 being the most relevant and 0 being the least relevant\\n        \\'required_fields_completed\\' = \\'integer\\',# required / Score from 0-100 indicating that the extent that values imputed for the required fields fit the descriptions of the required fields provided. 0 being least fitting the parameter criteria and 100 perfectly fitting the criteria. Even though something can be added for the field, it is not the same thing as fitting the criteria perfectly, for example \\'age\\' field might be populated given that the user is a teen with a value from 13-19, but if the criteria is for \\'age\\' to be a value between 18-65, then the field is not fitting the criteria perfectly. The field \\'country\\' might be populated with \\'France\\' if the context provided gave Paris, but this may not be the correct country for Paris so the score would be less than 100.\\n    },\\n    \\'Payroll\\':{\\n        \\'region2\\' = \\'string\\',# required / User region\\n        \\'relevance_score\\' = \\'integer\\',# required / The relevance score of the \"Payroll\" tool based soley on the function/tool description (not its parameters) from 0 to 100 with 100 being the most relevant and 0 being the least relevant\\n        \\'required_fields_completed\\' = \\'integer\\',# required / Score from 0-100 indicating that the extent that values imputed for the required fields fit the descriptions of the required fields provided. 0 being least fitting the parameter criteria and 100 perfectly fitting the criteria. Even though something can be added for the field, it is not the same thing as fitting the criteria perfectly, for example \\'age\\' field might be populated given that the user is a teen with a value from 13-19, but if the criteria is for \\'age\\' to be a value between 18-65, then the field is not fitting the criteria perfectly. The field \\'country\\' might be populated with \\'France\\' if the context provided gave Paris, but this may not be the correct country for Paris so the score would be less than 100.\\n    }'"
      ]
     },
     "execution_count": 131,
     "metadata": {},
     "output_type": "execute_result"
    }
   ],
   "source": [
    "\n",
    "import helper as hlp\n",
    "\n",
    "# Load all configurations\n",
    "configs = hlp.load_all_configs()\n",
    "\n",
    "# Access individual configs\n",
    "planner_config = configs[\"planner\"]\n",
    "user_data = configs[\"user_data\"]  # This is the parsed user_json as a dict\n",
    "tools = configs[\"tools\"]\n",
    "content_items = configs[\"content\"][\"items\"]\n",
    "\n",
    "# Use the configuration data...\n",
    "planner_mode = planner_config.get(\"mode\")\n",
    "combined_result = hlp.generate_schema_for_tools(tools)\n",
    "combined_result"
   ]
  },
  {
   "cell_type": "code",
   "execution_count": 92,
   "metadata": {},
   "outputs": [
    {
     "data": {
      "text/plain": [
       "[{'name': 'TaxToolz',\n",
       "  'description': 'Handles tax-related queries',\n",
       "  'priority': 50,\n",
       "  'display_mode': 'as-is',\n",
       "  'index_name': 'payrollIndex',\n",
       "  'top_k': 4,\n",
       "  'reranker': 'top3',\n",
       "  'parameters_json': '[{\"name\":\"region2\",\"type\":\"string\",\"required\":true,\"description\":\"User region\"},{\"name\":\"age\",\"type\":\"integer\",\"required\":true,\"description\":\"User exact age\"}]',\n",
       "  'user_fields_mapping': '{\"age\":\"23\"}',\n",
       "  'disambiguation_level': 10,\n",
       "  'can_be_overridden_when_sticky': False},\n",
       " {'name': 'Payroll',\n",
       "  'description': 'Call this tool for payroll questions',\n",
       "  'priority': 100,\n",
       "  'display_mode': 'as-is',\n",
       "  'index_name': 'sfss',\n",
       "  'top_k': 12,\n",
       "  'reranker': 'top1',\n",
       "  'parameters_json': '[{\"name\":\"region2\",\"type\":\"string\",\"required\":true,\"description\":\"User region\"}]',\n",
       "  'user_fields_mapping': '{}',\n",
       "  'disambiguation_level': 10,\n",
       "  'can_be_overridden_when_sticky': True}]"
      ]
     },
     "execution_count": 92,
     "metadata": {},
     "output_type": "execute_result"
    }
   ],
   "source": [
    "tools"
   ]
  },
  {
   "cell_type": "code",
   "execution_count": 60,
   "metadata": {},
   "outputs": [
    {
     "data": {
      "text/plain": [
       "{'mode': 'smart',\n",
       " 'schema_data': '{}',\n",
       " 'disambiguation_threshold': 10,\n",
       " 'relevance_threshold': 10}"
      ]
     },
     "execution_count": 60,
     "metadata": {},
     "output_type": "execute_result"
    }
   ],
   "source": [
    "planner_config"
   ]
  },
  {
   "cell_type": "code",
   "execution_count": 98,
   "metadata": {},
   "outputs": [],
   "source": [
    "message_history = []"
   ]
  },
  {
   "cell_type": "code",
   "execution_count": 119,
   "metadata": {},
   "outputs": [],
   "source": [
    "\n",
    "user_message = \"\"\"payrol teen from nevada\"\"\"\n",
    "message_history.append({\"role\": \"user\", \"content\": user_message})\n",
    "\n",
    "system_prompt = f\"\"\"You are a helpful product support chatbot for Intuit Quickbooks. You have access to the chat history with the user and you should provide output in strict JSON mode according to the following schema:\n",
    "\n",
    "{combined_result}\n",
    "\"\"\"\n",
    "\n",
    "if planner_mode in ['fast','fast_listen_override']:\n",
    "    model_name = 'gemini-2.0-flash'\n",
    "elif planner_mode in ['smart']:\n",
    "    model_name = 'gemini-2.0-pro-exp-02-05'\n",
    "else:\n",
    "    print(\"Invalid planner mode\")\n",
    "\n",
    "\n",
    "out_str = hlp.generate_flexible_structure(\n",
    "    user_message = user_message,\n",
    "    message_history = message_history,\n",
    "    google_api_key = hlp.google_api_key,\n",
    "    system_prompt = system_prompt,\n",
    "    model_name  = model_name\n",
    ")\n",
    "\n",
    "validated_structure_out = hlp.validate_and_restructure(out_str[1], tools)\n",
    "\n",
    "#message_history.append({\"role\": \"assistant\", \"content\": bot_reply})"
   ]
  },
  {
   "cell_type": "code",
   "execution_count": 120,
   "metadata": {},
   "outputs": [
    {
     "data": {
      "text/plain": [
       "{'TaxToolz': {'parameters': {'region2': 'Nevada', 'age': 16},\n",
       "  'relevance_score': 10,\n",
       "  'required_fields_completed': 60,\n",
       "  'validation': {'relevance_score_error': False,\n",
       "   'required_fields_completed_error': False,\n",
       "   'required_params_error': False,\n",
       "   'missing_required_params': [],\n",
       "   'missing_or_invalid_optional_params': [],\n",
       "   'fields_found': ['relevance_score',\n",
       "    'required_fields_completed',\n",
       "    'region2',\n",
       "    'age'],\n",
       "   'error_string': ''}},\n",
       " 'Payroll': {'parameters': {'region2': 'Nevada'},\n",
       "  'relevance_score': 95,\n",
       "  'required_fields_completed': 100,\n",
       "  'validation': {'relevance_score_error': False,\n",
       "   'required_fields_completed_error': False,\n",
       "   'required_params_error': False,\n",
       "   'missing_required_params': [],\n",
       "   'missing_or_invalid_optional_params': [],\n",
       "   'fields_found': ['relevance_score', 'required_fields_completed', 'region2'],\n",
       "   'error_string': ''}}}"
      ]
     },
     "execution_count": 120,
     "metadata": {},
     "output_type": "execute_result"
    }
   ],
   "source": [
    "validated_structure_out['Payroll']\n",
    "validated_structure_out"
   ]
  },
  {
   "cell_type": "code",
   "execution_count": 96,
   "metadata": {},
   "outputs": [
    {
     "data": {
      "text/plain": [
       "[{'name': 'TaxToolz',\n",
       "  'description': 'Handles tax-related queries',\n",
       "  'priority': 50,\n",
       "  'display_mode': 'as-is',\n",
       "  'index_name': 'payrollIndex',\n",
       "  'top_k': 4,\n",
       "  'reranker': 'top3',\n",
       "  'parameters_json': '[{\"name\":\"region2\",\"type\":\"string\",\"required\":true,\"description\":\"User region\"},{\"name\":\"age\",\"type\":\"integer\",\"required\":true,\"description\":\"User exact age\"}]',\n",
       "  'user_fields_mapping': '{\"age\":\"23\"}',\n",
       "  'disambiguation_level': 10,\n",
       "  'can_be_overridden_when_sticky': False},\n",
       " {'name': 'Payroll',\n",
       "  'description': 'Call this tool for payroll questions',\n",
       "  'priority': 100,\n",
       "  'display_mode': 'as-is',\n",
       "  'index_name': 'sfss',\n",
       "  'top_k': 12,\n",
       "  'reranker': 'top1',\n",
       "  'parameters_json': '[{\"name\":\"region2\",\"type\":\"string\",\"required\":true,\"description\":\"User region\"}]',\n",
       "  'user_fields_mapping': '{}',\n",
       "  'disambiguation_level': 10,\n",
       "  'can_be_overridden_when_sticky': True}]"
      ]
     },
     "execution_count": 96,
     "metadata": {},
     "output_type": "execute_result"
    }
   ],
   "source": [
    "tools"
   ]
  },
  {
   "cell_type": "code",
   "execution_count": 122,
   "metadata": {},
   "outputs": [
    {
     "data": {
      "text/plain": [
       "95"
      ]
     },
     "execution_count": 122,
     "metadata": {},
     "output_type": "execute_result"
    }
   ],
   "source": [
    "v.get(\"relevance_score\")"
   ]
  },
  {
   "cell_type": "code",
   "execution_count": null,
   "metadata": {},
   "outputs": [
    {
     "name": "stdout",
     "output_type": "stream",
     "text": [
      "[{'name': 'TaxToolz', 'description': 'Handles tax-related queries', 'display_mode': 'as-is', 'can_be_overridden_when_sticky': False, 'priority': 10, 'disambiguation_fields': []}, {'name': 'Payroll', 'description': 'Call this tool for payroll questions', 'display_mode': 'as-is', 'can_be_overridden_when_sticky': True, 'priority': 10, 'disambiguation_fields': []}]\n",
      "$$$$$$$$$$$$$$$$\n",
      "[]\n"
     ]
    }
   ],
   "source": [
    "import json\n",
    "\n",
    "successful_tools = []\n",
    "need_disambig_tools = []\n",
    "\n",
    "for k,v in validated_structure_out.items():\n",
    "    if v.get(\"relevance_score\") >= planner_config['relevance_threshold']:\n",
    "        for t in tools:\n",
    "            if t['name'] == k: \n",
    "                \n",
    "                payload = {'name':k,'description':t['description'],'display_mode':t['display_mode'],'can_be_overridden_when_sticky':t['can_be_overridden_when_sticky'],'priority':t['priority']}\n",
    "\n",
    "                if v.get('required_fields_completed') >= t['disambiguation_level']*10 and len(v.get('validation')['missing_required_params'])==0:\n",
    "                    # all required fields are completed and disambiguation level is met\n",
    "                    \n",
    "                    payload['disambiguation_fields'] = []\n",
    "                    successful_tools.append(payload)\n",
    "                else: # disambiguation needed\n",
    "\n",
    "                    parameters_dict = json.loads(t['parameters_json'])\n",
    "\n",
    "                    if v.get('required_fields_completed') < t['disambiguation_level']*10: # add all fields to disambituation because threshold not met\n",
    "                        \n",
    "                        print(t['disambiguation_level']*10)\n",
    "                        print(v.get('required_fields_completed'))\n",
    "\n",
    "                        disambiguation_fields = []\n",
    "                        for p in parameters_dict:\n",
    "                            disambiguation_fields.append({p['name']:p['description']})\n",
    "                    else: # threshold met, but some fields are missing so add them to disambiguation\n",
    "                        disambiguation_fields = []\n",
    "                        \n",
    "                        for p in parameters_dict:\n",
    "                            if p['name'] in v.get('validation')['missing_required_params']:\n",
    "                                disambiguation_fields.append({p['name']:p['description']})\n",
    "                                \n",
    "\n",
    "                    payload['disambiguation_fields'] = disambiguation_fields\n",
    "                    need_disambig_tools.append(payload)\n",
    "                \n",
    "\n",
    "\n",
    "        \n",
    "def get_lowest_priority_items(items_list):\n",
    "    if not items_list:\n",
    "        return []\n",
    "    \n",
    "    # Find the minimum priority value\n",
    "    min_priority = min(item['priority'] for item in items_list)\n",
    "    \n",
    "    # Filter the list to only include items with the minimum priority\n",
    "    lowest_priority_items = [item for item in items_list if item['priority'] == min_priority]\n",
    "    \n",
    "    return lowest_priority_items\n",
    "\n",
    "\n",
    "successful_tools_by_priority = get_lowest_priority_items(successful_tools)\n",
    "need_disambig_tools_by_priority = get_lowest_priority_items(need_disambig_tools)\n",
    "print(successful_tools_by_priority)\n",
    "print(\"$$$$$$$$$$$$$$$$\")\n",
    "print(need_disambig_tools_by_priority)\n",
    "\n",
    "# successful_tools,need_disambig_tools\n",
    "\n",
    "# turn off planner disambiguation setting\n",
    "# "
   ]
  },
  {
   "cell_type": "code",
   "execution_count": null,
   "metadata": {},
   "outputs": [],
   "source": [
    "# re-index all queries and content for an updated index as soon as it's updated (across content)\n",
    "# Add secondary disambiguation threshold on tools\n",
    "# rerank add tags to content for SDR\n",
    "# turn off planner disambiguation setting\n",
    "# if no execution needed but disambiguation needed, summarize disambig\n",
    "# if no execution needed, have a default response\n",
    "# if execution needed, find content under tool index (in sequence, if multiple tools) and filter using user parameters\n",
    "# find content with top k for tool and rerank\n",
    "# summarize if summarizable, even with multiple tools\n",
    "# disambiguate against returened queries if below secondary disambiguation threshold and make tool sticky\n",
    "# concatinate if not summarizable"
   ]
  },
  {
   "cell_type": "code",
   "execution_count": null,
   "metadata": {},
   "outputs": [],
   "source": []
  },
  {
   "cell_type": "code",
   "execution_count": null,
   "metadata": {},
   "outputs": [],
   "source": []
  },
  {
   "cell_type": "code",
   "execution_count": null,
   "metadata": {},
   "outputs": [
    {
     "ename": "TypeError",
     "evalue": "string indices must be integers, not 'str'",
     "output_type": "error",
     "traceback": [
      "\u001b[31m---------------------------------------------------------------------------\u001b[39m",
      "\u001b[31mTypeError\u001b[39m                                 Traceback (most recent call last)",
      "\u001b[36mCell\u001b[39m\u001b[36m \u001b[39m\u001b[32mIn[81]\u001b[39m\u001b[32m, line 1\u001b[39m\n\u001b[32m----> \u001b[39m\u001b[32m1\u001b[39m \u001b[43mp\u001b[49m\u001b[43m[\u001b[49m\u001b[33;43m'\u001b[39;49m\u001b[33;43mname\u001b[39;49m\u001b[33;43m'\u001b[39;49m\u001b[43m]\u001b[49m \n",
      "\u001b[31mTypeError\u001b[39m: string indices must be integers, not 'str'"
     ]
    }
   ],
   "source": [
    "p['name'] in v.get('validation')['missing_required_params']"
   ]
  },
  {
   "cell_type": "code",
   "execution_count": 103,
   "metadata": {},
   "outputs": [
    {
     "ename": "NameError",
     "evalue": "name 'validate_and_restructure' is not defined",
     "output_type": "error",
     "traceback": [
      "\u001b[31m---------------------------------------------------------------------------\u001b[39m",
      "\u001b[31mNameError\u001b[39m                                 Traceback (most recent call last)",
      "\u001b[36mCell\u001b[39m\u001b[36m \u001b[39m\u001b[32mIn[103]\u001b[39m\u001b[32m, line 2\u001b[39m\n\u001b[32m      1\u001b[39m \u001b[38;5;66;03m# Process and validate\u001b[39;00m\n\u001b[32m----> \u001b[39m\u001b[32m2\u001b[39m result = \u001b[43mvalidate_and_restructure\u001b[49m(out_str[\u001b[32m1\u001b[39m], tools)\n\u001b[32m      3\u001b[39m \u001b[38;5;28mprint\u001b[39m(json.dumps(result, indent=\u001b[32m2\u001b[39m))\n",
      "\u001b[31mNameError\u001b[39m: name 'validate_and_restructure' is not defined"
     ]
    }
   ],
   "source": [
    "\n",
    "# Process and validate\n",
    "result = validate_and_restructure(out_str[1], tools)\n",
    "print(json.dumps(result, indent=2))"
   ]
  },
  {
   "cell_type": "code",
   "execution_count": null,
   "metadata": {},
   "outputs": [],
   "source": []
  },
  {
   "cell_type": "code",
   "execution_count": null,
   "metadata": {},
   "outputs": [],
   "source": []
  }
 ],
 "metadata": {
  "kernelspec": {
   "display_name": "pv2",
   "language": "python",
   "name": "python3"
  },
  "language_info": {
   "codemirror_mode": {
    "name": "ipython",
    "version": 3
   },
   "file_extension": ".py",
   "mimetype": "text/x-python",
   "name": "python",
   "nbconvert_exporter": "python",
   "pygments_lexer": "ipython3",
   "version": "3.11.9"
  }
 },
 "nbformat": 4,
 "nbformat_minor": 2
}
