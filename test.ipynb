{
 "cells": [
  {
   "cell_type": "code",
   "execution_count": null,
   "metadata": {},
   "outputs": [
    {
     "name": "stderr",
     "output_type": "stream",
     "text": [
      "c:\\Users\\dusan\\OneDrive\\Desktop\\pp\\plannerv2\\pv2\\Lib\\site-packages\\tqdm\\auto.py:21: TqdmWarning: IProgress not found. Please update jupyter and ipywidgets. See https://ipywidgets.readthedocs.io/en/stable/user_install.html\n",
      "  from .autonotebook import tqdm as notebook_tqdm\n"
     ]
    }
   ],
   "source": [
    "\n",
    "%load_ext autoreload\n",
    "%autoreload 2\n",
    "\n",
    "import helper as hlp\n",
    "import json\n",
    "import retrieval as ret\n"
   ]
  },
  {
   "cell_type": "code",
   "execution_count": null,
   "metadata": {},
   "outputs": [
    {
     "data": {
      "text/plain": [
       "'    \\'TaxToolz\\':{\\n        \\'region2\\' = \\'string\\',# required / User region\\n        \\'age\\' = \\'integer\\',# required / User exact age\\n        \\'relevance_score\\' = \\'integer\\',# required / The relevance score of the \"TaxToolz\" tool based soley on the function/tool description (not its parameters) from 0 to 100 with 100 being the most relevant and 0 being the least relevant\\n        \\'required_fields_completed\\' = \\'integer\\',# required / Score from 0-100 indicating that the extent that values imputed for the required fields fit the descriptions of the required fields provided. 0 being least fitting the parameter criteria and 100 perfectly fitting the criteria. Even though something can be added for the field, it is not the same thing as fitting the criteria perfectly, for example \\'age\\' field might be populated given that the user is a teen with a value from 13-19, but if the criteria is for \\'age\\' to be a value between 18-65, then the field is not fitting the criteria perfectly. The field \\'country\\' might be populated with \\'France\\' if the context provided gave Paris, but this may not be the correct country for Paris so the score would be less than 100.\\n    },\\n    \\'Payroll\\':{\\n        \\'region2\\' = \\'string\\',# required / User region\\n        \\'relevance_score\\' = \\'integer\\',# required / The relevance score of the \"Payroll\" tool based soley on the function/tool description (not its parameters) from 0 to 100 with 100 being the most relevant and 0 being the least relevant\\n        \\'required_fields_completed\\' = \\'integer\\',# required / Score from 0-100 indicating that the extent that values imputed for the required fields fit the descriptions of the required fields provided. 0 being least fitting the parameter criteria and 100 perfectly fitting the criteria. Even though something can be added for the field, it is not the same thing as fitting the criteria perfectly, for example \\'age\\' field might be populated given that the user is a teen with a value from 13-19, but if the criteria is for \\'age\\' to be a value between 18-65, then the field is not fitting the criteria perfectly. The field \\'country\\' might be populated with \\'France\\' if the context provided gave Paris, but this may not be the correct country for Paris so the score would be less than 100.\\n    }'"
      ]
     },
     "execution_count": 2,
     "metadata": {},
     "output_type": "execute_result"
    }
   ],
   "source": [
    "\n",
    "import helper as hlp\n",
    "\n",
    "# Load all configurations\n",
    "configs = hlp.load_all_configs()\n",
    "\n",
    "# Access individual configs\n",
    "planner_config = configs[\"planner\"]\n",
    "user_data = configs[\"user_data\"]  # This is the parsed user_json as a dict\n",
    "tools = configs[\"tools\"]\n",
    "content_items = configs[\"content\"][\"items\"]\n",
    "\n",
    "# Use the configuration data...\n",
    "planner_mode = planner_config.get(\"mode\")\n",
    "combined_result = hlp.generate_schema_for_tools(tools)\n",
    "combined_result"
   ]
  },
  {
   "cell_type": "code",
   "execution_count": 4,
   "metadata": {},
   "outputs": [
    {
     "data": {
      "text/plain": [
       "[{'name': 'TaxToolz',\n",
       "  'description': 'Handles tax-related queries',\n",
       "  'priority': 10,\n",
       "  'display_mode': 'as-is',\n",
       "  'index_name': 'one',\n",
       "  'top_k': 4,\n",
       "  'reranker': 'top3',\n",
       "  'parameters_json': '[{\"name\":\"region2\",\"type\":\"string\",\"required\":true,\"description\":\"User region\"},{\"name\":\"age\",\"type\":\"integer\",\"required\":true,\"description\":\"User exact age\"}]',\n",
       "  'user_fields_mapping': {'age': '23'},\n",
       "  'disambiguation_level': 4,\n",
       "  'can_be_overridden_when_sticky': False},\n",
       " {'name': 'Payroll',\n",
       "  'description': 'Call this tool for payroll questions',\n",
       "  'priority': 10,\n",
       "  'display_mode': 'as-is',\n",
       "  'index_name': 'two',\n",
       "  'top_k': 12,\n",
       "  'reranker': 'top1',\n",
       "  'parameters_json': '[{\"name\":\"region2\",\"type\":\"string\",\"required\":true,\"description\":\"User region\"}]',\n",
       "  'user_fields_mapping': {},\n",
       "  'disambiguation_level': 10,\n",
       "  'can_be_overridden_when_sticky': True}]"
      ]
     },
     "execution_count": 4,
     "metadata": {},
     "output_type": "execute_result"
    }
   ],
   "source": [
    "tools"
   ]
  },
  {
   "cell_type": "code",
   "execution_count": 5,
   "metadata": {},
   "outputs": [
    {
     "data": {
      "text/plain": [
       "{'mode': 'smart', 'schema_data': '{}', 'relevance_threshold': 10}"
      ]
     },
     "execution_count": 5,
     "metadata": {},
     "output_type": "execute_result"
    }
   ],
   "source": [
    "planner_config"
   ]
  },
  {
   "cell_type": "code",
   "execution_count": 6,
   "metadata": {},
   "outputs": [],
   "source": [
    "message_history = []"
   ]
  },
  {
   "cell_type": "code",
   "execution_count": 7,
   "metadata": {},
   "outputs": [],
   "source": [
    "\n",
    "user_message = \"\"\"payrol teen from nevada\"\"\"\n",
    "message_history.append({\"role\": \"user\", \"content\": user_message})\n",
    "\n",
    "system_prompt = f\"\"\"You are a helpful product support chatbot for Intuit Quickbooks. You have access to the chat history with the user and you should provide output in strict JSON mode according to the following schema:\n",
    "\n",
    "{combined_result}\n",
    "\"\"\"\n",
    "\n",
    "if planner_mode in ['fast','fast_listen_override']:\n",
    "    model_name = 'gemini-2.0-flash'\n",
    "elif planner_mode in ['smart']:\n",
    "    model_name = 'gemini-2.0-pro-exp-02-05'\n",
    "else:\n",
    "    print(\"Invalid planner mode\")\n",
    "\n",
    "\n",
    "out_str = hlp.generate_flexible_structure(\n",
    "    user_message = user_message,\n",
    "    message_history = message_history,\n",
    "    google_api_key = hlp.google_api_key,\n",
    "    system_prompt = system_prompt,\n",
    "    model_name  = model_name\n",
    ")\n",
    "\n",
    "validated_structure_out = hlp.validate_and_restructure(out_str[1], tools)\n",
    "\n",
    "#message_history.append({\"role\": \"assistant\", \"content\": bot_reply})"
   ]
  },
  {
   "cell_type": "code",
   "execution_count": 8,
   "metadata": {},
   "outputs": [
    {
     "data": {
      "text/plain": [
       "{'TaxToolz': {'parameters': {'region2': 'Nevada', 'age': 16},\n",
       "  'relevance_score': 10,\n",
       "  'required_fields_completed': 30,\n",
       "  'validation': {'relevance_score_error': False,\n",
       "   'required_fields_completed_error': False,\n",
       "   'required_params_error': False,\n",
       "   'missing_required_params': [],\n",
       "   'missing_or_invalid_optional_params': [],\n",
       "   'fields_found': ['relevance_score',\n",
       "    'required_fields_completed',\n",
       "    'region2',\n",
       "    'age'],\n",
       "   'error_string': ''}},\n",
       " 'Payroll': {'parameters': {'region2': 'Nevada'},\n",
       "  'relevance_score': 95,\n",
       "  'required_fields_completed': 100,\n",
       "  'validation': {'relevance_score_error': False,\n",
       "   'required_fields_completed_error': False,\n",
       "   'required_params_error': False,\n",
       "   'missing_required_params': [],\n",
       "   'missing_or_invalid_optional_params': [],\n",
       "   'fields_found': ['relevance_score', 'required_fields_completed', 'region2'],\n",
       "   'error_string': ''}}}"
      ]
     },
     "execution_count": 8,
     "metadata": {},
     "output_type": "execute_result"
    }
   ],
   "source": [
    "validated_structure_out['Payroll']\n",
    "validated_structure_out"
   ]
  },
  {
   "cell_type": "code",
   "execution_count": 9,
   "metadata": {},
   "outputs": [
    {
     "data": {
      "text/plain": [
       "[{'name': 'TaxToolz',\n",
       "  'description': 'Handles tax-related queries',\n",
       "  'priority': 10,\n",
       "  'display_mode': 'as-is',\n",
       "  'index_name': 'one',\n",
       "  'top_k': 4,\n",
       "  'reranker': 'top3',\n",
       "  'parameters_json': '[{\"name\":\"region2\",\"type\":\"string\",\"required\":true,\"description\":\"User region\"},{\"name\":\"age\",\"type\":\"integer\",\"required\":true,\"description\":\"User exact age\"}]',\n",
       "  'user_fields_mapping': {'age': '23'},\n",
       "  'disambiguation_level': 4,\n",
       "  'can_be_overridden_when_sticky': False},\n",
       " {'name': 'Payroll',\n",
       "  'description': 'Call this tool for payroll questions',\n",
       "  'priority': 10,\n",
       "  'display_mode': 'as-is',\n",
       "  'index_name': 'two',\n",
       "  'top_k': 12,\n",
       "  'reranker': 'top1',\n",
       "  'parameters_json': '[{\"name\":\"region2\",\"type\":\"string\",\"required\":true,\"description\":\"User region\"}]',\n",
       "  'user_fields_mapping': {},\n",
       "  'disambiguation_level': 10,\n",
       "  'can_be_overridden_when_sticky': True}]"
      ]
     },
     "execution_count": 9,
     "metadata": {},
     "output_type": "execute_result"
    }
   ],
   "source": [
    "tools"
   ]
  },
  {
   "cell_type": "code",
   "execution_count": 122,
   "metadata": {},
   "outputs": [
    {
     "data": {
      "text/plain": [
       "95"
      ]
     },
     "execution_count": 122,
     "metadata": {},
     "output_type": "execute_result"
    }
   ],
   "source": [
    "v.get(\"relevance_score\")"
   ]
  },
  {
   "cell_type": "code",
   "execution_count": 10,
   "metadata": {},
   "outputs": [
    {
     "name": "stdout",
     "output_type": "stream",
     "text": [
      "40\n",
      "30\n",
      "[{'name': 'Payroll', 'description': 'Call this tool for payroll questions', 'display_mode': 'as-is', 'can_be_overridden_when_sticky': True, 'priority': 10, 'disambiguation_fields': []}]\n",
      "$$$$$$$$$$$$$$$$\n",
      "[{'name': 'TaxToolz', 'description': 'Handles tax-related queries', 'display_mode': 'as-is', 'can_be_overridden_when_sticky': False, 'priority': 10, 'disambiguation_fields': [{'region2': 'User region'}, {'age': 'User exact age'}]}]\n"
     ]
    }
   ],
   "source": [
    "import json\n",
    "\n",
    "successful_tools = []\n",
    "need_disambig_tools = []\n",
    "\n",
    "for k,v in validated_structure_out.items():\n",
    "    if v.get(\"relevance_score\") >= planner_config['relevance_threshold']:\n",
    "        for t in tools:\n",
    "            if t['name'] == k: \n",
    "                \n",
    "                payload = {'name':k,'description':t['description'],'display_mode':t['display_mode'],'can_be_overridden_when_sticky':t['can_be_overridden_when_sticky'],'priority':t['priority']}\n",
    "\n",
    "                if v.get('required_fields_completed') >= t['disambiguation_level']*10 and len(v.get('validation')['missing_required_params'])==0:\n",
    "                    # all required fields are completed and disambiguation level is met\n",
    "                    \n",
    "                    payload['disambiguation_fields'] = []\n",
    "                    successful_tools.append(payload)\n",
    "                else: # disambiguation needed\n",
    "\n",
    "                    parameters_dict = json.loads(t['parameters_json'])\n",
    "\n",
    "                    if v.get('required_fields_completed') < t['disambiguation_level']*10: # add all fields to disambituation because threshold not met\n",
    "                        \n",
    "                        print(t['disambiguation_level']*10)\n",
    "                        print(v.get('required_fields_completed'))\n",
    "\n",
    "                        disambiguation_fields = []\n",
    "                        for p in parameters_dict:\n",
    "                            disambiguation_fields.append({p['name']:p['description']})\n",
    "                    else: # threshold met, but some fields are missing so add them to disambiguation\n",
    "                        disambiguation_fields = []\n",
    "                        \n",
    "                        for p in parameters_dict:\n",
    "                            if p['name'] in v.get('validation')['missing_required_params']:\n",
    "                                disambiguation_fields.append({p['name']:p['description']})\n",
    "                                \n",
    "\n",
    "                    payload['disambiguation_fields'] = disambiguation_fields\n",
    "                    need_disambig_tools.append(payload)\n",
    "                \n",
    "\n",
    "\n",
    "        \n",
    "def get_lowest_priority_items(items_list):\n",
    "    if not items_list:\n",
    "        return []\n",
    "    \n",
    "    # Find the minimum priority value\n",
    "    min_priority = min(item['priority'] for item in items_list)\n",
    "    \n",
    "    # Filter the list to only include items with the minimum priority\n",
    "    lowest_priority_items = [item for item in items_list if item['priority'] == min_priority]\n",
    "    \n",
    "    return lowest_priority_items\n",
    "\n",
    "\n",
    "successful_tools_by_priority = get_lowest_priority_items(successful_tools)\n",
    "need_disambig_tools_by_priority = get_lowest_priority_items(need_disambig_tools)\n",
    "print(successful_tools_by_priority)\n",
    "print(\"$$$$$$$$$$$$$$$$\")\n",
    "print(need_disambig_tools_by_priority)\n",
    "\n",
    "# successful_tools,need_disambig_tools\n",
    "\n",
    "# turn off planner disambiguation setting\n",
    "# "
   ]
  },
  {
   "cell_type": "code",
   "execution_count": null,
   "metadata": {},
   "outputs": [],
   "source": [
    "#log all successful tools, even if disambiguation needed, even if lower priority\n",
    "#execute all successful tools and after execution\n",
    "# found successful solution with resply?\n",
    "    # send all summarizable to be summarized\n",
    "    # append all non summarizable\n",
    "# if disambiguation needed, send disambig to summarization / w tool descriptions\n",
    "# if nothing succeded, then send default response\n",
    "\n",
    "# if no execution needed but disambiguation needed, summarize w/ disambig\n",
    "# if no execution needed, have a default response\n",
    "# if execution needed, find content under tool index (in sequence, if multiple tools) and filter using user parameters\n",
    "\n",
    "# find content with top k for tool and rerank\n",
    "\n",
    "# summarize if summarizable, even with multiple tools\n",
    "# disambiguate against returened queries if below secondary disambiguation threshold and make tool sticky\n",
    "# concatinate if not summarizable"
   ]
  },
  {
   "cell_type": "code",
   "execution_count": 79,
   "metadata": {},
   "outputs": [
    {
     "name": "stdout",
     "output_type": "stream",
     "text": [
      "Current working directory: c:\\Users\\dusan\\OneDrive\\Desktop\\pp\\plannerv2\n",
      "Index directory: c:\\Users\\dusan\\OneDrive\\Desktop\\pp\\plannerv2\\config\\faiss_indexes\n",
      "  - Exists: True\n",
      "  - Is directory: True\n",
      "  - Readable: True\n",
      "  - Writable: True\n",
      "Content directory: c:\\Users\\dusan\\OneDrive\\Desktop\\pp\\plannerv2\\config\\faiss_content\n",
      "  - Exists: True\n",
      "  - Is directory: True\n",
      "  - Readable: True\n",
      "  - Writable: True\n",
      "Index files: ['.index', 'one.index', 'payrollIndex.index', 'three!.index', 'three.index', 'two.index']\n",
      "Index: .index\n",
      "  - Size: 7725 bytes\n",
      "  - Modified: 1742107186.3285563\n",
      "  - Readable: True\n",
      "  - Content file exists: Yes\n",
      "  - Content size: 774 bytes\n",
      "  - Content modified: 1742107186.3295543\n",
      "  - Content items count: 1\n",
      "  - Content mapping count: 5\n",
      "  - Content titles:\n",
      "    - Adding Payroll Features\n",
      "Index: one.index\n",
      "  - Size: 7725 bytes\n",
      "  - Modified: 1742187608.8000574\n",
      "  - Readable: True\n",
      "  - Content file exists: Yes\n",
      "  - Content size: 791 bytes\n",
      "  - Content modified: 1742187608.8010564\n",
      "  - Content items count: 1\n",
      "  - Content mapping count: 5\n",
      "  - Content titles:\n",
      "    - Adding Payroll Features\n",
      "Index: payrollIndex.index\n",
      "  - Size: 4653 bytes\n",
      "  - Modified: 1742069559.0110662\n",
      "  - Readable: True\n",
      "  - Content file exists: Yes\n",
      "  - Content size: 338 bytes\n",
      "  - Content modified: 1742069559.0120666\n",
      "  - Content items count: 1\n",
      "  - Content mapping count: 3\n",
      "  - Content titles:\n",
      "    - Add Payroll Feature\n",
      "Index: three!.index\n",
      "  - Size: 7725 bytes\n",
      "  - Modified: 1742187608.718105\n",
      "  - Readable: True\n",
      "  - Content file exists: Yes\n",
      "  - Content size: 822 bytes\n",
      "  - Content modified: 1742187608.7191048\n",
      "  - Content items count: 1\n",
      "  - Content mapping count: 5\n",
      "  - Content titles:\n",
      "    - Setting Up International Payments\n",
      "Index: three.index\n",
      "  - Size: 10797 bytes\n",
      "  - Modified: 1742187608.9169905\n",
      "  - Readable: True\n",
      "  - Content file exists: Yes\n",
      "  - Content size: 914 bytes\n",
      "  - Content modified: 1742187608.9179897\n",
      "  - Content items count: 2\n",
      "  - Content mapping count: 7\n",
      "  - Content titles:\n",
      "    - Setting Up International Payments 2\n",
      "    - sfsf\n",
      "Index: two.index\n",
      "  - Size: 9261 bytes\n",
      "  - Modified: 1742187608.6401482\n",
      "  - Readable: True\n",
      "  - Content file exists: Yes\n",
      "  - Content size: 818 bytes\n",
      "  - Content modified: 1742187608.6401482\n",
      "  - Content items count: 1\n",
      "  - Content mapping count: 6\n",
      "  - Content titles:\n",
      "    - Tax Form Filing Deadlines\n",
      "\n",
      "Content JSON file:\n",
      "  - Path: c:\\Users\\dusan\\OneDrive\\Desktop\\pp\\plannerv2\\config\\content.json\n",
      "  - Size: 3933 bytes\n",
      "  - Modified: 1742187602.3866663\n",
      "  - Readable: True\n",
      "  - Total items in content.json: 5\n",
      "  - Items by index:\n",
      "    - one: 1 items\n",
      "    - two: 1 items\n",
      "    - three!: 1 items\n",
      "    - three: 2 items\n"
     ]
    },
    {
     "data": {
      "text/plain": [
       "'Diagnosis complete'"
      ]
     },
     "execution_count": 79,
     "metadata": {},
     "output_type": "execute_result"
    }
   ],
   "source": [
    "ret.diagnose_retrieval_system()"
   ]
  },
  {
   "cell_type": "code",
   "execution_count": 62,
   "metadata": {},
   "outputs": [
    {
     "data": {
      "text/plain": [
       "{'items': [{'title': 'Adding Payroll Features',\n",
       "   'body': \"To add payroll features to your QuickBooks account, follow these steps:\\r\\n1. Navigate to Employees > Payroll Setup\\r\\n2. Click on 'Set up payroll'\\r\\n3. Choose your payroll plan (Basic, Enhanced, or Full Service)\\r\\n4. Enter your business information\\r\\n5. Add employee details\\r\\n6. Set up payroll taxes\\r\\n7. Complete payroll setup by following the on-screen instructions\",\n",
       "   'index_name': 'three',\n",
       "   'query_strings': ['how do I add payrolls?',\n",
       "    'setting up payroll',\n",
       "    'payroll setup instructions',\n",
       "    'how to enable payroll'],\n",
       "   'user_fields_mapping': {'region32': ['US', 'Canada'], 'age': ['12', '23']},\n",
       "   'tags': ['SDR', 'Bullets']},\n",
       "  {'title': 'Tax Form Filing Deadlines',\n",
       "   'body': 'Here are the important tax filing deadlines:\\r\\n- W-2 Forms: Must be provided to employees by January 31\\r\\n- Quarterly Payroll Taxes (Form 941): Due at the end of the month following each quarter\\r\\n- Annual Federal Unemployment (FUTA) Tax Return (Form 940): Due January 31\\r\\n- 1099 Forms: Must be provided to contractors by January 31 and filed with the IRS by February 28',\n",
       "   'index_name': 'three',\n",
       "   'query_strings': ['when are tax forms dues?',\n",
       "    'tax filing deadlines',\n",
       "    'when do I need to submit tax forms?',\n",
       "    'W-2 deadline',\n",
       "    '1099 due date'],\n",
       "   'user_fields_mapping': {'region32': ['US', 'Canada'], 'age': ['12', '23']},\n",
       "   'tags': []},\n",
       "  {'title': 'Setting Up International Payments',\n",
       "   'body': \"To set up international payments in QuickBooks:\\r\\n1. Go to Banking > Bank Feeds > Set Up Bank Feed\\r\\n2. Select your bank or 'Connect to a different bank'\\r\\n3. For international payments, select the currency\\r\\n4. Enter your bank account details\\r\\n5. Set up the payment method\\r\\n6. Test the connection with a small transaction\\r\\n7. Start using international payments\",\n",
       "   'index_name': 'three',\n",
       "   'query_strings': ['how to make international payments',\n",
       "    'global payment setup',\n",
       "    'paying vendors internationally',\n",
       "    'foreign currency payments'],\n",
       "   'user_fields_mapping': {'region32': ['US', 'Canada', 'Serbia', 'Croatia'],\n",
       "    'age': ['12', '23']},\n",
       "   'tags': []},\n",
       "  {'title': 'Setting Up International Payments 2',\n",
       "   'body': \"To set up international payments in QuickBooks:\\r\\n1. Go to Banking > Bank Feeds > Set Up Bank Feed\\r\\n2. Select your bank or 'Connect to a different bank'\\r\\n3. For international payments, select the currency\\r\\n4. Enter your bank account details\\r\\n5. Set up the payment method\\r\\n6. Test the connection with a small transaction\\r\\n7. Start using international payments\",\n",
       "   'index_name': 'three',\n",
       "   'query_strings': ['how to make national payment',\n",
       "    'local payment setup',\n",
       "    'paying vendors here',\n",
       "    'local currency payments'],\n",
       "   'user_fields_mapping': {'region32': ['US', 'Canada', 'Serbia', 'Croatia'],\n",
       "    'age': ['12', '23']},\n",
       "   'tags': ['SDR']}]}"
      ]
     },
     "execution_count": 62,
     "metadata": {},
     "output_type": "execute_result"
    }
   ],
   "source": [
    "content_config"
   ]
  },
  {
   "cell_type": "code",
   "execution_count": 47,
   "metadata": {},
   "outputs": [
    {
     "name": "stdout",
     "output_type": "stream",
     "text": [
      "The autoreload extension is already loaded. To reload it, use:\n",
      "  %reload_ext autoreload\n",
      "Creating/updating index 'three' with 4 items\n",
      "Index created successfully with 21 vectors (including query strings)\n",
      "Built 1 indexes: three\n"
     ]
    }
   ],
   "source": [
    "\n",
    "%load_ext autoreload\n",
    "%autoreload 2\n",
    "import retrieval as ret\n",
    "import helper as hlp\n",
    "\n",
    "# Load your configurations\n",
    "configs = hlp.load_all_configs()\n",
    "content_config = configs[\"content\"]\n",
    "\n",
    "# Create an indexer\n",
    "indexer = ret.ContentIndexer()\n",
    "\n",
    "# Build all indexes (you may want to comment this out after first run to save time)\n",
    "ret.build_all_indexes(content_config, indexer)"
   ]
  },
  {
   "cell_type": "code",
   "execution_count": 58,
   "metadata": {},
   "outputs": [
    {
     "name": "stdout",
     "output_type": "stream",
     "text": [
      "Creating/updating index 'three' with 4 items\n",
      "Index created successfully with 21 vectors (including query strings)\n",
      "Built 1 indexes: three\n"
     ]
    }
   ],
   "source": [
    "ret.build_all_indexes(content_config, indexer)"
   ]
  },
  {
   "cell_type": "code",
   "execution_count": 5,
   "metadata": {},
   "outputs": [
    {
     "name": "stdout",
     "output_type": "stream",
     "text": [
      "The autoreload extension is already loaded. To reload it, use:\n",
      "  %reload_ext autoreload\n",
      "Using index store path: C:/Users/dusan/OneDrive/Desktop/pp/plannerv2/config/faiss_indexes\n",
      "Using content store path: C:/Users/dusan/OneDrive/Desktop/pp/plannerv2/config/faiss_content\n",
      "Title: Adding Payroll Featuresz\n",
      "Similarity: 0.98\n",
      "Body: To add payroll features to your QuickBooks account, follow these steps:\n",
      "1. Navigate to Employees > ...\n",
      "---\n"
     ]
    }
   ],
   "source": [
    "\n",
    "%load_ext autoreload\n",
    "%autoreload 2\n",
    "import retrieval as ret\n",
    "import helper as hlp\n",
    "\n",
    "from retrieval import retrieve_filtered_content\n",
    "\n",
    "# Get content that matches US region and age 12\n",
    "results = retrieve_filtered_content(\n",
    "    index_name=\"one\",\n",
    "    query=\"tax filing globally\",\n",
    "    user_fields={\"region32\": \"US\", \"age\": \"23\"},\n",
    "    top_k=3,\n",
    "    similarity_threshold=.1\n",
    ")\n",
    "\n",
    "# This should return content that has both region32=US and age=12 in its user_fields_mapping\n",
    "for item in results:\n",
    "    print(f\"Title: {item['title']}\")\n",
    "    print(f\"Similarity: {item['similarity']:.2f}\")\n",
    "    print(f\"Body: {item['body'][:100]}...\")\n",
    "    print(\"---\")\n",
    "\n",
    "# # Example with no match (South Africa is not in the list)\n",
    "# no_match_results = retrieve_filtered_content(\n",
    "#     index_name=\"one\",\n",
    "#     query=\"tax filing deadlines\",\n",
    "#     user_fields={\"region32\": \"South Africa\", \"age\": \"12\"},\n",
    "#     top_k=3,\n",
    "#     similarity_threshold=0.1\n",
    "# )\n",
    "\n",
    "# print(f\"Number of results with South Africa filter: {len(no_match_results)}\")  # Should be 0"
   ]
  },
  {
   "cell_type": "code",
   "execution_count": 77,
   "metadata": {},
   "outputs": [
    {
     "data": {
      "text/plain": [
       "[{'title': 'Setting Up International Payments',\n",
       "  'body': \"To set up international payments in QuickBooks:\\r\\n1. Go to Banking > Bank Feeds > Set Up Bank Feed\\r\\n2. Select your bank or 'Connect to a different bank'\\r\\n3. For international payments, select the currency\\r\\n4. Enter your bank account details\\r\\n5. Set up the payment method\\r\\n6. Test the connection with a small transaction\\r\\n7. Start using international payments\",\n",
       "  'index_name': 'three',\n",
       "  'query_strings': ['how to make international payments',\n",
       "   'global payment setup',\n",
       "   'paying vendors internationally',\n",
       "   'foreign currency payments'],\n",
       "  'user_fields_mapping': {'region32': ['US', 'Canada', 'Serbia', 'Croatia'],\n",
       "   'age': ['12', '23']},\n",
       "  'tags': [],\n",
       "  'similarity': np.float32(0.9886756)},\n",
       " {'title': 'Tax Form Filing Deadlines',\n",
       "  'body': 'Here are the important tax filing deadlines:\\r\\n- W-2 Forms: Must be provided to employees by January 31\\r\\n- Quarterly Payroll Taxes (Form 941): Due at the end of the month following each quarter\\r\\n- Annual Federal Unemployment (FUTA) Tax Return (Form 940): Due January 31\\r\\n- 1099 Forms: Must be provided to contractors by January 31 and filed with the IRS by February 28',\n",
       "  'index_name': 'three',\n",
       "  'query_strings': ['when are tax forms duez?',\n",
       "   'tax filing deadlines',\n",
       "   'when do I need to submit tax forms?',\n",
       "   'W-2 deadline',\n",
       "   '1099 due date'],\n",
       "  'user_fields_mapping': {'region32': ['US', 'Canada'], 'age': ['12', '23']},\n",
       "  'tags': [],\n",
       "  'similarity': np.float32(0.98861325)},\n",
       " {'title': 'Setting Up International Payments 2',\n",
       "  'body': \"To set up international payments in QuickBooks:\\r\\n1. Go to Banking > Bank Feeds > Set Up Bank Feed\\r\\n2. Select your bank or 'Connect to a different bank'\\r\\n3. For international payments, select the currency\\r\\n4. Enter your bank account details\\r\\n5. Set up the payment method\\r\\n6. Test the connection with a small transaction\\r\\n7. Start using international payments\",\n",
       "  'index_name': 'three',\n",
       "  'query_strings': ['how to make national payment',\n",
       "   'local payment setup',\n",
       "   'paying vendors here',\n",
       "   'local currency payments'],\n",
       "  'user_fields_mapping': {'region32': ['US', 'Canada', 'Serbia', 'Croatia'],\n",
       "   'age': ['12', '23']},\n",
       "  'tags': ['SDR', 'PPP'],\n",
       "  'similarity': np.float32(0.98698175)}]"
      ]
     },
     "execution_count": 77,
     "metadata": {},
     "output_type": "execute_result"
    }
   ],
   "source": [
    "results"
   ]
  },
  {
   "cell_type": "code",
   "execution_count": 26,
   "metadata": {},
   "outputs": [
    {
     "name": "stdout",
     "output_type": "stream",
     "text": [
      "Top 1 Result:\n",
      "Title: Setting Up International Payments\n",
      "Similarity: 0.9887\n",
      "\n",
      "Top 3 Results:\n",
      "1. Setting Up International Payments (Similarity: 0.9887)\n",
      "2. Setting Up International Payments 2 (Similarity: 0.9873)\n",
      "\n",
      "SDR-Boosted Result:\n",
      "Title: Setting Up International Payments 2\n",
      "Similarity: 0.9898 (boosted)\n"
     ]
    }
   ],
   "source": [
    "import rerankers as rr\n",
    "# Apply different rerankers\n",
    "top1_results = rr.top1_reranker(results)\n",
    "top3_results = rr.top3_reranker(results)\n",
    "sdr_boosted_results = rr.uprank_sdr_reranker(results)\n",
    "\n",
    "# Display top1 result\n",
    "print(\"Top 1 Result:\")\n",
    "if top1_results:\n",
    "    print(f\"Title: {top1_results[0]['title']}\")\n",
    "    print(f\"Similarity: {top1_results[0]['similarity']:.4f}\")\n",
    "else:\n",
    "    print(\"No results found\")\n",
    "\n",
    "# Display top3 results\n",
    "print(\"\\nTop 3 Results:\")\n",
    "for i, item in enumerate(top3_results, 1):\n",
    "    print(f\"{i}. {item['title']} (Similarity: {item['similarity']:.4f})\")\n",
    "\n",
    "# Display SDR-boosted result\n",
    "print(\"\\nSDR-Boosted Result:\")\n",
    "if sdr_boosted_results:\n",
    "    item = sdr_boosted_results[0]\n",
    "    boosted = item.get('boosted', False)\n",
    "    print(f\"Title: {item['title']}\")\n",
    "    print(f\"Similarity: {item['similarity']:.4f}{' (boosted)' if boosted else ''}\")\n",
    "else:\n",
    "    print(\"No results found\")"
   ]
  },
  {
   "cell_type": "code",
   "execution_count": 53,
   "metadata": {},
   "outputs": [
    {
     "name": "stdout",
     "output_type": "stream",
     "text": [
      "Index file size: 32301 bytes, modified: 1742108782.837486\n",
      "Content file size: 2778 bytes, modified: 1742108782.837486\n"
     ]
    }
   ],
   "source": [
    "import os\n",
    "\n",
    "# Get file info\n",
    "def get_file_info(path):\n",
    "    if os.path.exists(path):\n",
    "        return {\n",
    "            'size': os.path.getsize(path),\n",
    "            'modified': os.path.getmtime(path)\n",
    "        }\n",
    "    return None\n",
    "\n",
    "# Get info for the index files\n",
    "index_path = \"config/faiss_indexes/three.index\"\n",
    "content_path = \"config/faiss_content/three.pkl\"\n",
    "\n",
    "# Print file info\n",
    "index_info = get_file_info(index_path)\n",
    "content_info = get_file_info(content_path)\n",
    "\n",
    "print(f\"Index file size: {index_info['size']} bytes, modified: {index_info['modified']}\")\n",
    "print(f\"Content file size: {content_info['size']} bytes, modified: {content_info['modified']}\")"
   ]
  },
  {
   "cell_type": "code",
   "execution_count": 49,
   "metadata": {},
   "outputs": [
    {
     "name": "stdout",
     "output_type": "stream",
     "text": [
      "Index file size: 32301 bytes, modified: 1742108782.837486\n",
      "Content file size: 2778 bytes, modified: 1742108782.837486\n"
     ]
    }
   ],
   "source": [
    "import os\n",
    "\n",
    "# Get file info\n",
    "def get_file_info(path):\n",
    "    if os.path.exists(path):\n",
    "        return {\n",
    "            'size': os.path.getsize(path),\n",
    "            'modified': os.path.getmtime(path)\n",
    "        }\n",
    "    return None\n",
    "\n",
    "# Get info for the index files\n",
    "index_path = \"config/faiss_indexes/three.index\"\n",
    "content_path = \"config/faiss_content/three.pkl\"\n",
    "\n",
    "# Print file info\n",
    "index_info = get_file_info(index_path)\n",
    "content_info = get_file_info(content_path)\n",
    "\n",
    "print(f\"Index file size: {index_info['size']} bytes, modified: {index_info['modified']}\")\n",
    "print(f\"Content file size: {content_info['size']} bytes, modified: {content_info['modified']}\")"
   ]
  },
  {
   "cell_type": "code",
   "execution_count": 56,
   "metadata": {},
   "outputs": [
    {
     "name": "stdout",
     "output_type": "stream",
     "text": [
      "Title: Adding Payroll Features\n",
      "Index name: three\n",
      "User fields: {'region32': ['US', 'Canada'], 'age': ['12', '23']}\n",
      "---\n",
      "Title: Tax Form Filing Deadlines\n",
      "Index name: three\n",
      "User fields: {'region32': ['US', 'Canada'], 'age': ['12', '23']}\n",
      "---\n",
      "Title: Setting Up International Payments\n",
      "Index name: three\n",
      "User fields: {'region32': ['US', 'Canada', 'Serbia', 'Croatia'], 'age': ['12', '23']}\n",
      "---\n",
      "Title: Setting Up International Payments 2\n",
      "Index name: three\n",
      "User fields: {'region32': ['US', 'Canada', 'Serbia', 'Croatia'], 'age': ['12', '23']}\n",
      "---\n"
     ]
    }
   ],
   "source": [
    "import pickle\n",
    "\n",
    "# Load the content directly\n",
    "with open(\"config/faiss_content/three.pkl\", 'rb') as f:\n",
    "    data = pickle.load(f)\n",
    "    content_items = data['content_items']\n",
    "\n",
    "# Print the titles and some details\n",
    "for item in content_items:\n",
    "    print(f\"Title: {item['title']}\")\n",
    "    print(f\"Index name: {item['index_name']}\")\n",
    "    print(f\"User fields: {item.get('user_fields_mapping', {})}\")\n",
    "    print(\"---\")"
   ]
  },
  {
   "cell_type": "code",
   "execution_count": 57,
   "metadata": {},
   "outputs": [
    {
     "data": {
      "text/plain": [
       "[{'title': 'Adding Payroll Features',\n",
       "  'body': \"To add payroll features to your QuickBooks account, follow these steps:\\r\\n1. Navigate to Employees > Payroll Setup\\r\\n2. Click on 'Set up payroll'\\r\\n3. Choose your payroll plan (Basic, Enhanced, or Full Service)\\r\\n4. Enter your business information\\r\\n5. Add employee details\\r\\n6. Set up payroll taxes\\r\\n7. Complete payroll setup by following the on-screen instructions\",\n",
       "  'index_name': 'three',\n",
       "  'query_strings': ['how do I add payrolls?',\n",
       "   'setting up payroll',\n",
       "   'payroll setup instructions',\n",
       "   'how to enable payroll'],\n",
       "  'user_fields_mapping': {'region32': ['US', 'Canada'], 'age': ['12', '23']},\n",
       "  'tags': ['SDR', 'Bullets']},\n",
       " {'title': 'Tax Form Filing Deadlines',\n",
       "  'body': 'Here are the important tax filing deadlines:\\r\\n- W-2 Forms: Must be provided to employees by January 31\\r\\n- Quarterly Payroll Taxes (Form 941): Due at the end of the month following each quarter\\r\\n- Annual Federal Unemployment (FUTA) Tax Return (Form 940): Due January 31\\r\\n- 1099 Forms: Must be provided to contractors by January 31 and filed with the IRS by February 28',\n",
       "  'index_name': 'three',\n",
       "  'query_strings': ['when are tax forms dues?',\n",
       "   'tax filing deadlines',\n",
       "   'when do I need to submit tax forms?',\n",
       "   'W-2 deadline',\n",
       "   '1099 due date'],\n",
       "  'user_fields_mapping': {'region32': ['US', 'Canada'], 'age': ['12', '23']},\n",
       "  'tags': []},\n",
       " {'title': 'Setting Up International Payments',\n",
       "  'body': \"To set up international payments in QuickBooks:\\r\\n1. Go to Banking > Bank Feeds > Set Up Bank Feed\\r\\n2. Select your bank or 'Connect to a different bank'\\r\\n3. For international payments, select the currency\\r\\n4. Enter your bank account details\\r\\n5. Set up the payment method\\r\\n6. Test the connection with a small transaction\\r\\n7. Start using international payments\",\n",
       "  'index_name': 'three',\n",
       "  'query_strings': ['how to make international payments',\n",
       "   'global payment setup',\n",
       "   'paying vendors internationally',\n",
       "   'foreign currency payments'],\n",
       "  'user_fields_mapping': {'region32': ['US', 'Canada', 'Serbia', 'Croatia'],\n",
       "   'age': ['12', '23']},\n",
       "  'tags': []},\n",
       " {'title': 'Setting Up International Payments 2',\n",
       "  'body': \"To set up international payments in QuickBooks:\\r\\n1. Go to Banking > Bank Feeds > Set Up Bank Feed\\r\\n2. Select your bank or 'Connect to a different bank'\\r\\n3. For international payments, select the currency\\r\\n4. Enter your bank account details\\r\\n5. Set up the payment method\\r\\n6. Test the connection with a small transaction\\r\\n7. Start using international payments\",\n",
       "  'index_name': 'three',\n",
       "  'query_strings': ['how to make national payment',\n",
       "   'local payment setup',\n",
       "   'paying vendors here',\n",
       "   'local currency payments'],\n",
       "  'user_fields_mapping': {'region32': ['US', 'Canada', 'Serbia', 'Croatia'],\n",
       "   'age': ['12', '23']},\n",
       "  'tags': ['SDR']}]"
      ]
     },
     "execution_count": 57,
     "metadata": {},
     "output_type": "execute_result"
    }
   ],
   "source": [
    "content_items"
   ]
  }
 ],
 "metadata": {
  "kernelspec": {
   "display_name": "pv2",
   "language": "python",
   "name": "python3"
  },
  "language_info": {
   "codemirror_mode": {
    "name": "ipython",
    "version": 3
   },
   "file_extension": ".py",
   "mimetype": "text/x-python",
   "name": "python",
   "nbconvert_exporter": "python",
   "pygments_lexer": "ipython3",
   "version": "3.11.9"
  }
 },
 "nbformat": 4,
 "nbformat_minor": 2
}
